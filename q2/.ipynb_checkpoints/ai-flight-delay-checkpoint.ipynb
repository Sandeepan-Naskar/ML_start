{
 "cells": [
  {
   "cell_type": "code",
   "execution_count": 1,
   "metadata": {},
   "outputs": [],
   "source": [
    "#WELCOME-------------------------------------------------------------------------"
   ]
  },
  {
   "cell_type": "code",
   "execution_count": 2,
   "metadata": {
    "_cell_guid": "b1076dfc-b9ad-4769-8c92-a6c4dae69d19",
    "_uuid": "8f2839f25d086af736a60e9eeb907d3b93b6e0e5"
   },
   "outputs": [],
   "source": [
    "import numpy as np # linear algebra\n",
    "import pandas as pd # data processing, CSV file I/O (e.g. pd.read_csv)\n",
    "\n",
    "from sklearn.model_selection import StratifiedKFold \n",
    "from sklearn.metrics import mean_absolute_error\n",
    "from sklearn.linear_model import LinearRegression\n",
    "from sklearn.tree import DecisionTreeClassifier\n",
    "from sklearn.ensemble import RandomForestClassifier\n",
    "from sklearn.metrics import roc_auc_score\n",
    "from sklearn.preprocessing import StandardScaler\n"
   ]
  },
  {
   "cell_type": "code",
   "execution_count": 3,
   "metadata": {
    "_cell_guid": "79c7e3d0-c299-4dcb-8224-4455121ee9b0",
    "_uuid": "d629ff2d2480ee46fbb7e2d37f6b5fab8052498a"
   },
   "outputs": [],
   "source": [
    "train = pd.read_csv('flight_delays_train.csv')\n",
    "test = pd.read_csv('flight_delays_test.csv')\n",
    "sub = pd.read_csv('sample_sub1.csv')"
   ]
  },
  {
   "cell_type": "code",
   "execution_count": 4,
   "metadata": {},
   "outputs": [
    {
     "data": {
      "text/html": [
       "<div>\n",
       "<style scoped>\n",
       "    .dataframe tbody tr th:only-of-type {\n",
       "        vertical-align: middle;\n",
       "    }\n",
       "\n",
       "    .dataframe tbody tr th {\n",
       "        vertical-align: top;\n",
       "    }\n",
       "\n",
       "    .dataframe thead th {\n",
       "        text-align: right;\n",
       "    }\n",
       "</style>\n",
       "<table border=\"1\" class=\"dataframe\">\n",
       "  <thead>\n",
       "    <tr style=\"text-align: right;\">\n",
       "      <th></th>\n",
       "      <th>id</th>\n",
       "      <th>dep_delayed_15min</th>\n",
       "    </tr>\n",
       "  </thead>\n",
       "  <tbody>\n",
       "    <tr>\n",
       "      <th>0</th>\n",
       "      <td>0</td>\n",
       "      <td>0.081</td>\n",
       "    </tr>\n",
       "    <tr>\n",
       "      <th>1</th>\n",
       "      <td>1</td>\n",
       "      <td>0.387</td>\n",
       "    </tr>\n",
       "    <tr>\n",
       "      <th>2</th>\n",
       "      <td>2</td>\n",
       "      <td>0.069</td>\n",
       "    </tr>\n",
       "    <tr>\n",
       "      <th>3</th>\n",
       "      <td>3</td>\n",
       "      <td>0.177</td>\n",
       "    </tr>\n",
       "    <tr>\n",
       "      <th>4</th>\n",
       "      <td>4</td>\n",
       "      <td>0.732</td>\n",
       "    </tr>\n",
       "    <tr>\n",
       "      <th>...</th>\n",
       "      <td>...</td>\n",
       "      <td>...</td>\n",
       "    </tr>\n",
       "    <tr>\n",
       "      <th>99995</th>\n",
       "      <td>99995</td>\n",
       "      <td>0.495</td>\n",
       "    </tr>\n",
       "    <tr>\n",
       "      <th>99996</th>\n",
       "      <td>99996</td>\n",
       "      <td>0.634</td>\n",
       "    </tr>\n",
       "    <tr>\n",
       "      <th>99997</th>\n",
       "      <td>99997</td>\n",
       "      <td>0.603</td>\n",
       "    </tr>\n",
       "    <tr>\n",
       "      <th>99998</th>\n",
       "      <td>99998</td>\n",
       "      <td>0.709</td>\n",
       "    </tr>\n",
       "    <tr>\n",
       "      <th>99999</th>\n",
       "      <td>99999</td>\n",
       "      <td>0.932</td>\n",
       "    </tr>\n",
       "  </tbody>\n",
       "</table>\n",
       "<p>100000 rows × 2 columns</p>\n",
       "</div>"
      ],
      "text/plain": [
       "          id  dep_delayed_15min\n",
       "0          0              0.081\n",
       "1          1              0.387\n",
       "2          2              0.069\n",
       "3          3              0.177\n",
       "4          4              0.732\n",
       "...      ...                ...\n",
       "99995  99995              0.495\n",
       "99996  99996              0.634\n",
       "99997  99997              0.603\n",
       "99998  99998              0.709\n",
       "99999  99999              0.932\n",
       "\n",
       "[100000 rows x 2 columns]"
      ]
     },
     "execution_count": 4,
     "metadata": {},
     "output_type": "execute_result"
    }
   ],
   "source": [
    "sub"
   ]
  },
  {
   "cell_type": "code",
   "execution_count": 5,
   "metadata": {},
   "outputs": [],
   "source": [
    "# train = data.loc[(data['UniqueCarrier']=='HA')].reset_index(drop=True)"
   ]
  },
  {
   "cell_type": "code",
   "execution_count": 6,
   "metadata": {},
   "outputs": [],
   "source": [
    "# s = train.loc[(train['UniqueCarrier']=='AA')].reset_index(drop=True)"
   ]
  },
  {
   "cell_type": "code",
   "execution_count": 7,
   "metadata": {},
   "outputs": [],
   "source": [
    "# s['dep_delayed_15min'].value_counts()"
   ]
  },
  {
   "cell_type": "code",
   "execution_count": 8,
   "metadata": {},
   "outputs": [
    {
     "data": {
      "text/plain": [
       "dep_delayed_15min\n",
       "N                    80956\n",
       "Y                    19044\n",
       "dtype: int64"
      ]
     },
     "execution_count": 8,
     "metadata": {},
     "output_type": "execute_result"
    }
   ],
   "source": [
    "# imbalanced \n",
    "train[['dep_delayed_15min']].value_counts()"
   ]
  },
  {
   "cell_type": "code",
   "execution_count": 9,
   "metadata": {},
   "outputs": [
    {
     "data": {
      "text/plain": [
       "<AxesSubplot:xlabel='UniqueCarrier'>"
      ]
     },
     "execution_count": 9,
     "metadata": {},
     "output_type": "execute_result"
    },
    {
     "data": {
      "image/png": "[encoded data removed]",
      "text/plain": [
       "<Figure size 432x288 with 1 Axes>"
      ]
     },
     "metadata": {
      "needs_background": "light"
     },
     "output_type": "display_data"
    }
   ],
   "source": [
    "train.loc[train['dep_delayed_15min'] == 'Y'].groupby('UniqueCarrier')['UniqueCarrier'].count().plot(kind='bar')\n",
    "\n",
    "# we can see Carrier == WN  had maximum delays followed by AA\n",
    "# AQ, HA, TZ has lowest delays"
   ]
  },
  {
   "cell_type": "code",
   "execution_count": 10,
   "metadata": {},
   "outputs": [
    {
     "data": {
      "text/plain": [
       "<AxesSubplot:xlabel='UniqueCarrier'>"
      ]
     },
     "execution_count": 10,
     "metadata": {},
     "output_type": "execute_result"
    },
    {
     "data": {
      "image/png": "[encoded data removed]",
      "text/plain": [
       "<Figure size 432x288 with 1 Axes>"
      ]
     },
     "metadata": {
      "needs_background": "light"
     },
     "output_type": "display_data"
    }
   ],
   "source": [
    "train.groupby('UniqueCarrier')['UniqueCarrier'].count().plot(kind='bar')\n",
    "\n",
    "# we can see Carrier == WN, AA has mximum flight \n",
    "# AQ, HA, TZ has lowest flights"
   ]
  },
  {
   "cell_type": "code",
   "execution_count": 11,
   "metadata": {},
   "outputs": [],
   "source": [
    "def M_DM_DW(data):\n",
    "    cols = ['Month','DayofMonth','DayOfWeek']\n",
    "    for i in cols:\n",
    "        data[i] = data[i].str.strip('c-')\n",
    "    return data\n",
    "\n",
    "def H_M(data): \n",
    "    H = []\n",
    "    M = []\n",
    "    for i in data['DepTime']:\n",
    "        a = (i/100)\n",
    "        h, m = divmod(a, 1)\n",
    "        H.append(h)\n",
    "        M.append(np.round(m,2))\n",
    "    data['hours'] = H\n",
    "    data['minutes'] = M\n",
    "    return data\n",
    "    "
   ]
  },
  {
   "cell_type": "code",
   "execution_count": 12,
   "metadata": {},
   "outputs": [],
   "source": [
    "train = M_DM_DW(train)\n",
    "train = H_M(train)\n",
    "test = M_DM_DW(test)\n",
    "test = H_M(test)"
   ]
  },
  {
   "cell_type": "code",
   "execution_count": 13,
   "metadata": {},
   "outputs": [],
   "source": [
    "# as this is highly imbalance lets segregate it by carrer , so that we will trim that carrier which has more data\n",
    "# imbalanced \n",
    "def cor_bal(data):\n",
    "    df = pd.DataFrame(columns=train.columns)\n",
    "    for i in train['UniqueCarrier'].unique():\n",
    "        short_data = data.loc[(data['dep_delayed_15min'] == 'N' ) & (data['UniqueCarrier']==i)].iloc[:1000,:]\n",
    "        df = pd.concat([df,short_data], axis=0, ignore_index=True)\n",
    "    return df"
   ]
  },
  {
   "cell_type": "code",
   "execution_count": 14,
   "metadata": {},
   "outputs": [
    {
     "data": {
      "text/plain": [
       "dep_delayed_15min\n",
       "N                    19987\n",
       "Y                    19044\n",
       "dtype: int64"
      ]
     },
     "execution_count": 14,
     "metadata": {},
     "output_type": "execute_result"
    }
   ],
   "source": [
    "# train_data = train\n",
    "train_data = cor_bal(train)\n",
    "train_data = pd.concat([train_data,train.loc[(train['dep_delayed_15min'] == 'Y' )]], ignore_index=True)\n",
    "train_data[['dep_delayed_15min']].value_counts()\n",
    "\n",
    "# Problem of imbalance is done."
   ]
  },
  {
   "cell_type": "code",
   "execution_count": 15,
   "metadata": {},
   "outputs": [],
   "source": [
    "cols = ['UniqueCarrier','Origin','Dest']\n",
    "train_data = train_data.drop(columns=cols)\n",
    "train_data['dep_delayed_15min'] = train_data['dep_delayed_15min'].map({'Y':1,\n",
    "                                                            'N':0})\n",
    "\n",
    "test_data = test.drop(columns=cols)"
   ]
  },
  {
   "cell_type": "code",
   "execution_count": 16,
   "metadata": {},
   "outputs": [],
   "source": [
    "def scaling(X_train, X_test, trial):\n",
    "    sc = StandardScaler()\n",
    "    X_train = sc.fit_transform(X_train)\n",
    "    X_test = sc.transform(X_test)\n",
    "    test_data = sc.transform(trial)\n",
    "    return X_train, X_test, test_data\n",
    "\n",
    "def decision_model(X_train, X_test, Y_train):\n",
    "    model = DecisionTreeClassifier()    \n",
    "    model.fit(X_train, Y_train)\n",
    "    y_test_predict = model.predict(X_test)\n",
    "    return y_test_predict\n",
    "\n",
    "\n",
    "def random_model(X_train, X_test, Y_train,trial):\n",
    "    params = {'n_estimators': 400,\n",
    "         'min_samples_split': 2,\n",
    "         'min_samples_leaf': 1,\n",
    "         \n",
    "         'max_depth': None,\n",
    "         'bootstrap': False}\n",
    "    model = RandomForestClassifier(**params)\n",
    "    model.fit(X_train, Y_train)\n",
    "    y_test_predict = model.predict(X_test)\n",
    "    final_predict = model.predict_proba(trial)\n",
    "    return y_test_predict,final_predict\n",
    "    "
   ]
  },
  {
   "cell_type": "code",
   "execution_count": 17,
   "metadata": {},
   "outputs": [],
   "source": [
    "# preparing data for modelling\n",
    "X = train_data.drop(columns=['dep_delayed_15min'])\n",
    "Y = train_data['dep_delayed_15min']"
   ]
  },
  {
   "cell_type": "code",
   "execution_count": null,
   "metadata": {},
   "outputs": [
    {
     "name": "stdout",
     "output_type": "stream",
     "text": [
      "0.6331890347904328\n"
     ]
    }
   ],
   "source": [
    "score = []\n",
    "final = []\n",
    "kfold = StratifiedKFold(n_splits=5, random_state=24, shuffle=True)\n",
    "\n",
    "for Train, Test in kfold.split(X,Y):\n",
    "    X_train, X_test = X.iloc[Train], X.iloc[Test]\n",
    "    Y_train, Y_test = Y.iloc[Train], Y.iloc[Test]\n",
    "    X_train, X_test, test_data = scaling(X_train, X_test,test_data)\n",
    "    #====== MODEL =======================\n",
    "    y_test_predict,final_predict = random_model(X_train, X_test, Y_train,test_data)\n",
    "    #====================================\n",
    "    roc = roc_auc_score(Y_test, y_test_predict)\n",
    "    print(roc)\n",
    "    score.append(roc)\n",
    "    final.append(final_predict)\n",
    "average_score = np.mean(score)\n",
    "print('The average roc is ', average_score)\n",
    "    "
   ]
  },
  {
   "cell_type": "code",
   "execution_count": null,
   "metadata": {},
   "outputs": [],
   "source": [
    "final_predition = pd.DataFrame(np.mean(y_test_predict,0))"
   ]
  },
  {
   "cell_type": "code",
   "execution_count": null,
   "metadata": {},
   "outputs": [],
   "source": [
    "\n",
    "sub['dep_delayed_15min'] =  final_predition[1]\n",
    "sub.to_csv('rf_3.csv', index=False)"
   ]
  }
 ],
 "metadata": {
  "interpreter": {
   "hash": "10820050751a80ba2573fad5bff39a4808dd9458c2741717dc0a987b04f4c475"
  },
  "kernelspec": {
   "display_name": "Python 3",
   "language": "python",
   "name": "python3"
  },
  "language_info": {
   "codemirror_mode": {
    "name": "ipython",
    "version": 3
   },
   "file_extension": ".py",
   "mimetype": "text/x-python",
   "name": "python",
   "nbconvert_exporter": "python",
   "pygments_lexer": "ipython3",
   "version": "3.8.8"
  }
 },
 "nbformat": 4,
 "nbformat_minor": 4
}
