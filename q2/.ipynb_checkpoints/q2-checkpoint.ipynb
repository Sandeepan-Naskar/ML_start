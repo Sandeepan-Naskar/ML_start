{
 "cells": [
  {
   "cell_type": "markdown",
   "metadata": {},
   "source": []
  },
  {
   "cell_type": "code",
   "execution_count": 1,
   "metadata": {},
   "outputs": [],
   "source": [
    "%%capture\n",
    "!pip install tensorflow"
   ]
  },
  {
   "cell_type": "markdown",
   "metadata": {},
   "source": []
  },
  {
   "cell_type": "code",
   "execution_count": 2,
   "metadata": {
    "execution": {
     "iopub.execute_input": "2020-08-19T02:22:51.303641Z",
     "iopub.status.busy": "2020-08-19T02:22:51.302863Z",
     "iopub.status.idle": "2020-08-19T02:22:57.507292Z",
     "shell.execute_reply": "2020-08-19T02:22:57.506469Z"
    },
    "papermill": {
     "duration": 6.222926,
     "end_time": "2020-08-19T02:22:57.507440",
     "exception": false,
     "start_time": "2020-08-19T02:22:51.284514",
     "status": "completed"
    },
    "tags": []
   },
   "outputs": [],
   "source": [
    "import numpy as np\n",
    "import pandas as pd\n",
    "import matplotlib.pyplot as plt\n",
    "import tensorflow as tf\n",
    "\n",
    "from tensorflow.keras.models import Sequential\n",
    "from tensorflow.keras.layers import Dense\n",
    "from tensorflow.keras.optimizers import SGD, Adam"
   ]
  },
  {
   "cell_type": "markdown",
   "metadata": {},
   "source": []
  },
  {
   "cell_type": "code",
   "execution_count": 3,
   "metadata": {
    "execution": {
     "iopub.execute_input": "2020-08-19T02:22:57.536413Z",
     "iopub.status.busy": "2020-08-19T02:22:57.535540Z",
     "iopub.status.idle": "2020-08-19T02:22:57.893555Z",
     "shell.execute_reply": "2020-08-19T02:22:57.894145Z"
    },
    "papermill": {
     "duration": 0.376305,
     "end_time": "2020-08-19T02:22:57.894326",
     "exception": false,
     "start_time": "2020-08-19T02:22:57.518021",
     "status": "completed"
    },
    "scrolled": true,
    "tags": []
   },
   "outputs": [
    {
     "data": {
      "text/html": [
       "<div>\n",
       "<style scoped>\n",
       "    .dataframe tbody tr th:only-of-type {\n",
       "        vertical-align: middle;\n",
       "    }\n",
       "\n",
       "    .dataframe tbody tr th {\n",
       "        vertical-align: top;\n",
       "    }\n",
       "\n",
       "    .dataframe thead th {\n",
       "        text-align: right;\n",
       "    }\n",
       "</style>\n",
       "<table border=\"1\" class=\"dataframe\">\n",
       "  <thead>\n",
       "    <tr style=\"text-align: right;\">\n",
       "      <th></th>\n",
       "      <th>Month</th>\n",
       "      <th>DayofMonth</th>\n",
       "      <th>DayOfWeek</th>\n",
       "      <th>DepTime</th>\n",
       "      <th>UniqueCarrier</th>\n",
       "      <th>Origin</th>\n",
       "      <th>Dest</th>\n",
       "      <th>Distance</th>\n",
       "      <th>dep_delayed_15min</th>\n",
       "    </tr>\n",
       "  </thead>\n",
       "  <tbody>\n",
       "    <tr>\n",
       "      <th>0</th>\n",
       "      <td>c-8</td>\n",
       "      <td>c-21</td>\n",
       "      <td>c-7</td>\n",
       "      <td>1934</td>\n",
       "      <td>AA</td>\n",
       "      <td>ATL</td>\n",
       "      <td>DFW</td>\n",
       "      <td>732</td>\n",
       "      <td>N</td>\n",
       "    </tr>\n",
       "    <tr>\n",
       "      <th>1</th>\n",
       "      <td>c-4</td>\n",
       "      <td>c-20</td>\n",
       "      <td>c-3</td>\n",
       "      <td>1548</td>\n",
       "      <td>US</td>\n",
       "      <td>PIT</td>\n",
       "      <td>MCO</td>\n",
       "      <td>834</td>\n",
       "      <td>N</td>\n",
       "    </tr>\n",
       "    <tr>\n",
       "      <th>2</th>\n",
       "      <td>c-9</td>\n",
       "      <td>c-2</td>\n",
       "      <td>c-5</td>\n",
       "      <td>1422</td>\n",
       "      <td>XE</td>\n",
       "      <td>RDU</td>\n",
       "      <td>CLE</td>\n",
       "      <td>416</td>\n",
       "      <td>N</td>\n",
       "    </tr>\n",
       "    <tr>\n",
       "      <th>3</th>\n",
       "      <td>c-11</td>\n",
       "      <td>c-25</td>\n",
       "      <td>c-6</td>\n",
       "      <td>1015</td>\n",
       "      <td>OO</td>\n",
       "      <td>DEN</td>\n",
       "      <td>MEM</td>\n",
       "      <td>872</td>\n",
       "      <td>N</td>\n",
       "    </tr>\n",
       "    <tr>\n",
       "      <th>4</th>\n",
       "      <td>c-10</td>\n",
       "      <td>c-7</td>\n",
       "      <td>c-6</td>\n",
       "      <td>1828</td>\n",
       "      <td>WN</td>\n",
       "      <td>MDW</td>\n",
       "      <td>OMA</td>\n",
       "      <td>423</td>\n",
       "      <td>Y</td>\n",
       "    </tr>\n",
       "  </tbody>\n",
       "</table>\n",
       "</div>"
      ],
      "text/plain": [
       "  Month DayofMonth DayOfWeek  DepTime UniqueCarrier Origin Dest  Distance  \\\n",
       "0   c-8       c-21       c-7     1934            AA    ATL  DFW       732   \n",
       "1   c-4       c-20       c-3     1548            US    PIT  MCO       834   \n",
       "2   c-9        c-2       c-5     1422            XE    RDU  CLE       416   \n",
       "3  c-11       c-25       c-6     1015            OO    DEN  MEM       872   \n",
       "4  c-10        c-7       c-6     1828            WN    MDW  OMA       423   \n",
       "\n",
       "  dep_delayed_15min  \n",
       "0                 N  \n",
       "1                 N  \n",
       "2                 N  \n",
       "3                 N  \n",
       "4                 Y  "
      ]
     },
     "execution_count": 3,
     "metadata": {},
     "output_type": "execute_result"
    }
   ],
   "source": [
    "train = pd.read_csv(\"flight_delays_train.csv\")\n",
    "test = pd.read_csv(\"flight_delays_test.csv\")\n",
    "subm = pd.read_csv(\"sample_sub1.csv\")\n",
    "\n",
    "train.head()"
   ]
  },
  {
   "cell_type": "markdown",
   "metadata": {},
   "source": []
  },
  {
   "cell_type": "code",
   "execution_count": 4,
   "metadata": {
    "execution": {
     "iopub.execute_input": "2020-08-19T02:22:57.945432Z",
     "iopub.status.busy": "2020-08-19T02:22:57.940385Z",
     "iopub.status.idle": "2020-08-19T02:22:58.582221Z",
     "shell.execute_reply": "2020-08-19T02:22:58.581382Z"
    },
    "papermill": {
     "duration": 0.677207,
     "end_time": "2020-08-19T02:22:58.582363",
     "exception": false,
     "start_time": "2020-08-19T02:22:57.905156",
     "status": "completed"
    },
    "tags": []
   },
   "outputs": [],
   "source": [
    "train[\"Month\"] = [int(month[2:]) for month in train[\"Month\"]]\n",
    "train[\"DayofMonth\"] = [int(day[2:]) for day in train[\"DayofMonth\"]]\n",
    "train['hour'] = train['DepTime'] // 100\n",
    "\n",
    "train = train.drop(\"DepTime\", axis=1)\n",
    "train = train.drop(\"DayOfWeek\", axis=1)\n",
    "\n",
    "train[\"dep_delayed_15min\"] = [1  if n == \"Y\" else 0 for n in train[\"dep_delayed_15min\"]]\n",
    "\n",
    "for col in ['Origin', 'Dest', 'UniqueCarrier']:\n",
    "    train[col] = pd.factorize(train[col])[0]\n",
    "\n",
    "\n",
    "test[\"Month\"] = [int(month[2:]) for month in test[\"Month\"]]\n",
    "test[\"DayofMonth\"] = [int(day[2:]) for day in test[\"DayofMonth\"]]\n",
    "test['hour'] = test['DepTime'] // 100\n",
    "\n",
    "test = test.drop(\"DepTime\", axis=1)\n",
    "test = test.drop(\"DayOfWeek\", axis=1)\n",
    "\n",
    "for col in ['Origin', 'Dest', 'UniqueCarrier']:\n",
    "    test[col] = pd.factorize(test[col])[0]"
   ]
  },
  {
   "cell_type": "markdown",
   "metadata": {},
   "source": []
  },
  {
   "cell_type": "code",
   "execution_count": 5,
   "metadata": {
    "execution": {
     "iopub.execute_input": "2020-08-19T02:22:58.612120Z",
     "iopub.status.busy": "2020-08-19T02:22:58.611360Z",
     "iopub.status.idle": "2020-08-19T02:22:58.623443Z",
     "shell.execute_reply": "2020-08-19T02:22:58.622640Z"
    },
    "papermill": {
     "duration": 0.029509,
     "end_time": "2020-08-19T02:22:58.623575",
     "exception": false,
     "start_time": "2020-08-19T02:22:58.594066",
     "status": "completed"
    },
    "scrolled": true,
    "tags": []
   },
   "outputs": [
    {
     "name": "stdout",
     "output_type": "stream",
     "text": [
      "(100000, 7)\n"
     ]
    }
   ],
   "source": [
    "features = train.drop([\"dep_delayed_15min\"], axis=1)\n",
    "labels = train[\"dep_delayed_15min\"]\n",
    "features, labels = features.to_numpy(), labels.to_numpy()\n",
    "print(features.shape)"
   ]
  },
  {
   "cell_type": "markdown",
   "metadata": {
    "execution": {
     "iopub.execute_input": "2020-08-19T02:22:58.652236Z",
     "iopub.status.busy": "2020-08-19T02:22:58.651196Z",
     "iopub.status.idle": "2020-08-19T02:22:58.655026Z",
     "shell.execute_reply": "2020-08-19T02:22:58.655828Z"
    },
    "papermill": {
     "duration": 0.020991,
     "end_time": "2020-08-19T02:22:58.656080",
     "exception": false,
     "start_time": "2020-08-19T02:22:58.635089",
     "status": "completed"
    },
    "tags": []
   },
   "source": []
  },
  {
   "cell_type": "code",
   "execution_count": 6,
   "metadata": {
    "execution": {
     "iopub.execute_input": "2020-08-19T02:22:58.689577Z",
     "iopub.status.busy": "2020-08-19T02:22:58.688821Z",
     "iopub.status.idle": "2020-08-19T02:22:58.820111Z",
     "shell.execute_reply": "2020-08-19T02:22:58.819421Z"
    },
    "papermill": {
     "duration": 0.151005,
     "end_time": "2020-08-19T02:22:58.820246",
     "exception": false,
     "start_time": "2020-08-19T02:22:58.669241",
     "status": "completed"
    },
    "tags": []
   },
   "outputs": [
    {
     "data": {
      "image/png": "[encoded data removed]",
      "text/plain": [
       "<Figure size 432x288 with 1 Axes>"
      ]
     },
     "metadata": {
      "needs_background": "light"
     },
     "output_type": "display_data"
    },
    {
     "data": {
      "image/png": "[encoded data removed]",
      "text/plain": [
       "<Figure size 432x288 with 1 Axes>"
      ]
     },
     "metadata": {
      "needs_background": "light"
     },
     "output_type": "display_data"
    }
   ],
   "source": [
    "np.random.seed(50)\n",
    "\n",
    "model = Sequential([\n",
    "    Dense(32, input_shape=(features.shape[1],), activation='relu'),\n",
    "    Dense(32, activation='relu'),\n",
    "    Dense(1, activation='sigmoid')\n",
    "])\n",
    "model.compile(optimizer=Adam(learning_rate=.01), loss='binary_crossentropy', metrics=['accuracy'])\n",
    "\n",
    "history = model.fit(features, labels, epochs=15, batch_size=128, validation_split=.2, shuffle=True, verbose=0)\n",
    "\n",
    "plt.plot(history.history['accuracy'])\n",
    "plt.plot(history.history['val_accuracy'])\n",
    "plt.title('model accuracy')\n",
    "plt.ylabel('accuracy')\n",
    "plt.xlabel('epoch')\n",
    "plt.legend(['train', 'test'], loc='upper left')\n",
    "plt.show()\n",
    "# summarize history for loss\n",
    "plt.plot(history.history['loss'])\n",
    "plt.plot(history.history['val_loss'])\n",
    "plt.title('model loss')\n",
    "plt.ylabel('loss')\n",
    "plt.xlabel('epoch')\n",
    "plt.legend(['train', 'test'], loc='upper left')\n",
    "plt.show()"
   ]
  },
  {
   "cell_type": "markdown",
   "metadata": {
    "execution": {
     "iopub.execute_input": "2020-08-19T02:23:13.761758Z",
     "iopub.status.busy": "2020-08-19T02:23:13.760612Z",
     "iopub.status.idle": "2020-08-19T02:23:15.640690Z",
     "shell.execute_reply": "2020-08-19T02:23:15.640061Z"
    },
    "papermill": {
     "duration": 1.998241,
     "end_time": "2020-08-19T02:23:15.640831",
     "exception": false,
     "start_time": "2020-08-19T02:23:13.642590",
     "status": "completed"
    },
    "tags": []
   },
   "source": []
  },
  {
   "cell_type": "code",
   "execution_count": 8,
   "metadata": {
    "execution": {
     "iopub.execute_input": "2020-08-19T02:23:15.867486Z",
     "iopub.status.busy": "2020-08-19T02:23:15.866679Z",
     "iopub.status.idle": "2020-08-19T02:23:16.419630Z",
     "shell.execute_reply": "2020-08-19T02:23:16.420202Z"
    },
    "papermill": {
     "duration": 0.669177,
     "end_time": "2020-08-19T02:23:16.420380",
     "exception": false,
     "start_time": "2020-08-19T02:23:15.751203",
     "status": "completed"
    },
    "tags": []
   },
   "outputs": [
    {
     "data": {
      "text/html": [
       "<div>\n",
       "<style scoped>\n",
       "    .dataframe tbody tr th:only-of-type {\n",
       "        vertical-align: middle;\n",
       "    }\n",
       "\n",
       "    .dataframe tbody tr th {\n",
       "        vertical-align: top;\n",
       "    }\n",
       "\n",
       "    .dataframe thead th {\n",
       "        text-align: right;\n",
       "    }\n",
       "</style>\n",
       "<table border=\"1\" class=\"dataframe\">\n",
       "  <thead>\n",
       "    <tr style=\"text-align: right;\">\n",
       "      <th></th>\n",
       "      <th>id</th>\n",
       "      <th>dep_delayed_15min</th>\n",
       "    </tr>\n",
       "  </thead>\n",
       "  <tbody>\n",
       "    <tr>\n",
       "      <th>0</th>\n",
       "      <td>0</td>\n",
       "      <td>0.160221</td>\n",
       "    </tr>\n",
       "    <tr>\n",
       "      <th>1</th>\n",
       "      <td>1</td>\n",
       "      <td>0.160221</td>\n",
       "    </tr>\n",
       "    <tr>\n",
       "      <th>2</th>\n",
       "      <td>2</td>\n",
       "      <td>0.160221</td>\n",
       "    </tr>\n",
       "    <tr>\n",
       "      <th>3</th>\n",
       "      <td>3</td>\n",
       "      <td>0.160221</td>\n",
       "    </tr>\n",
       "    <tr>\n",
       "      <th>4</th>\n",
       "      <td>4</td>\n",
       "      <td>0.196893</td>\n",
       "    </tr>\n",
       "    <tr>\n",
       "      <th>...</th>\n",
       "      <td>...</td>\n",
       "      <td>...</td>\n",
       "    </tr>\n",
       "    <tr>\n",
       "      <th>99995</th>\n",
       "      <td>99995</td>\n",
       "      <td>0.160221</td>\n",
       "    </tr>\n",
       "    <tr>\n",
       "      <th>99996</th>\n",
       "      <td>99996</td>\n",
       "      <td>0.160221</td>\n",
       "    </tr>\n",
       "    <tr>\n",
       "      <th>99997</th>\n",
       "      <td>99997</td>\n",
       "      <td>0.160221</td>\n",
       "    </tr>\n",
       "    <tr>\n",
       "      <th>99998</th>\n",
       "      <td>99998</td>\n",
       "      <td>0.160221</td>\n",
       "    </tr>\n",
       "    <tr>\n",
       "      <th>99999</th>\n",
       "      <td>99999</td>\n",
       "      <td>0.160221</td>\n",
       "    </tr>\n",
       "  </tbody>\n",
       "</table>\n",
       "<p>100000 rows × 2 columns</p>\n",
       "</div>"
      ],
      "text/plain": [
       "          id  dep_delayed_15min\n",
       "0          0           0.160221\n",
       "1          1           0.160221\n",
       "2          2           0.160221\n",
       "3          3           0.160221\n",
       "4          4           0.196893\n",
       "...      ...                ...\n",
       "99995  99995           0.160221\n",
       "99996  99996           0.160221\n",
       "99997  99997           0.160221\n",
       "99998  99998           0.160221\n",
       "99999  99999           0.160221\n",
       "\n",
       "[100000 rows x 2 columns]"
      ]
     },
     "execution_count": 8,
     "metadata": {},
     "output_type": "execute_result"
    }
   ],
   "source": [
    "predictions = model.predict(test, verbose=0)\n",
    "preds = [pred[0] for pred in predictions]\n",
    "\n",
    "submission = pd.DataFrame({'id':subm['id'],'dep_delayed_15min':preds})\n",
    "submission.to_csv(\"output.csv\" ,index=False)\n",
    "submission"
   ]
  }
 ],
 "metadata": {
  "kernelspec": {
   "display_name": "Python 3",
   "language": "python",
   "name": "python3"
  },
  "language_info": {
   "codemirror_mode": {
    "name": "ipython",
    "version": 3
   },
   "file_extension": ".py",
   "mimetype": "text/x-python",
   "name": "python",
   "nbconvert_exporter": "python",
   "pygments_lexer": "ipython3",
   "version": "3.8.8"
  },
  "papermill": {
   "duration": 30.355916,
   "end_time": "2020-08-19T02:23:16.859468",
   "environment_variables": {},
   "exception": null,
   "input_path": "__notebook__.ipynb",
   "output_path": "__notebook__.ipynb",
   "parameters": {},
   "start_time": "2020-08-19T02:22:46.503552",
   "version": "2.1.0"
  }
 },
 "nbformat": 4,
 "nbformat_minor": 4
}
