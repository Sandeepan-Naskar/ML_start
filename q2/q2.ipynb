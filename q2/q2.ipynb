{
 "cells": [
  {
   "cell_type": "markdown",
   "metadata": {},
   "source": [
    "# Flight Delay Prediction"
   ]
  },
  {
   "cell_type": "markdown",
   "metadata": {},
   "source": [
    "Installing the Tensorflow library to use the functions in Keras <br>\n",
    "Importing numpy, pandas and matplotlib for data processing and plotting"
   ]
  },
  {
   "cell_type": "code",
   "execution_count": 1,
   "metadata": {
    "execution": {
     "iopub.execute_input": "2020-08-19T02:22:51.303641Z",
     "iopub.status.busy": "2020-08-19T02:22:51.302863Z",
     "iopub.status.idle": "2020-08-19T02:22:57.507292Z",
     "shell.execute_reply": "2020-08-19T02:22:57.506469Z"
    },
    "papermill": {
     "duration": 6.222926,
     "end_time": "2020-08-19T02:22:57.507440",
     "exception": false,
     "start_time": "2020-08-19T02:22:51.284514",
     "status": "completed"
    },
    "tags": []
   },
   "outputs": [],
   "source": [
    "%%capture\n",
    "!pip install tensorflow\n",
    "\n",
    "import numpy as np\n",
    "import pandas as pd\n",
    "import matplotlib.pyplot as plt\n",
    "import tensorflow as tf\n",
    "\n",
    "from tensorflow import keras\n",
    "from tensorflow.keras import layers"
   ]
  },
  {
   "cell_type": "markdown",
   "metadata": {},
   "source": [
    "Reading the input files from the csv format (after manually unzipping them) and printing the column labels using `train.head()`"
   ]
  },
  {
   "cell_type": "code",
   "execution_count": 2,
   "metadata": {
    "execution": {
     "iopub.execute_input": "2020-08-19T02:22:57.536413Z",
     "iopub.status.busy": "2020-08-19T02:22:57.535540Z",
     "iopub.status.idle": "2020-08-19T02:22:57.893555Z",
     "shell.execute_reply": "2020-08-19T02:22:57.894145Z"
    },
    "papermill": {
     "duration": 0.376305,
     "end_time": "2020-08-19T02:22:57.894326",
     "exception": false,
     "start_time": "2020-08-19T02:22:57.518021",
     "status": "completed"
    },
    "scrolled": true,
    "tags": []
   },
   "outputs": [
    {
     "data": {
      "text/html": [
       "<div>\n",
       "<style scoped>\n",
       "    .dataframe tbody tr th:only-of-type {\n",
       "        vertical-align: middle;\n",
       "    }\n",
       "\n",
       "    .dataframe tbody tr th {\n",
       "        vertical-align: top;\n",
       "    }\n",
       "\n",
       "    .dataframe thead th {\n",
       "        text-align: right;\n",
       "    }\n",
       "</style>\n",
       "<table border=\"1\" class=\"dataframe\">\n",
       "  <thead>\n",
       "    <tr style=\"text-align: right;\">\n",
       "      <th></th>\n",
       "      <th>Month</th>\n",
       "      <th>DayofMonth</th>\n",
       "      <th>DayOfWeek</th>\n",
       "      <th>DepTime</th>\n",
       "      <th>UniqueCarrier</th>\n",
       "      <th>Origin</th>\n",
       "      <th>Dest</th>\n",
       "      <th>Distance</th>\n",
       "      <th>dep_delayed_15min</th>\n",
       "    </tr>\n",
       "  </thead>\n",
       "  <tbody>\n",
       "    <tr>\n",
       "      <th>0</th>\n",
       "      <td>c-8</td>\n",
       "      <td>c-21</td>\n",
       "      <td>c-7</td>\n",
       "      <td>1934</td>\n",
       "      <td>AA</td>\n",
       "      <td>ATL</td>\n",
       "      <td>DFW</td>\n",
       "      <td>732</td>\n",
       "      <td>N</td>\n",
       "    </tr>\n",
       "    <tr>\n",
       "      <th>1</th>\n",
       "      <td>c-4</td>\n",
       "      <td>c-20</td>\n",
       "      <td>c-3</td>\n",
       "      <td>1548</td>\n",
       "      <td>US</td>\n",
       "      <td>PIT</td>\n",
       "      <td>MCO</td>\n",
       "      <td>834</td>\n",
       "      <td>N</td>\n",
       "    </tr>\n",
       "    <tr>\n",
       "      <th>2</th>\n",
       "      <td>c-9</td>\n",
       "      <td>c-2</td>\n",
       "      <td>c-5</td>\n",
       "      <td>1422</td>\n",
       "      <td>XE</td>\n",
       "      <td>RDU</td>\n",
       "      <td>CLE</td>\n",
       "      <td>416</td>\n",
       "      <td>N</td>\n",
       "    </tr>\n",
       "    <tr>\n",
       "      <th>3</th>\n",
       "      <td>c-11</td>\n",
       "      <td>c-25</td>\n",
       "      <td>c-6</td>\n",
       "      <td>1015</td>\n",
       "      <td>OO</td>\n",
       "      <td>DEN</td>\n",
       "      <td>MEM</td>\n",
       "      <td>872</td>\n",
       "      <td>N</td>\n",
       "    </tr>\n",
       "    <tr>\n",
       "      <th>4</th>\n",
       "      <td>c-10</td>\n",
       "      <td>c-7</td>\n",
       "      <td>c-6</td>\n",
       "      <td>1828</td>\n",
       "      <td>WN</td>\n",
       "      <td>MDW</td>\n",
       "      <td>OMA</td>\n",
       "      <td>423</td>\n",
       "      <td>Y</td>\n",
       "    </tr>\n",
       "  </tbody>\n",
       "</table>\n",
       "</div>"
      ],
      "text/plain": [
       "  Month DayofMonth DayOfWeek  DepTime UniqueCarrier Origin Dest  Distance  \\\n",
       "0   c-8       c-21       c-7     1934            AA    ATL  DFW       732   \n",
       "1   c-4       c-20       c-3     1548            US    PIT  MCO       834   \n",
       "2   c-9        c-2       c-5     1422            XE    RDU  CLE       416   \n",
       "3  c-11       c-25       c-6     1015            OO    DEN  MEM       872   \n",
       "4  c-10        c-7       c-6     1828            WN    MDW  OMA       423   \n",
       "\n",
       "  dep_delayed_15min  \n",
       "0                 N  \n",
       "1                 N  \n",
       "2                 N  \n",
       "3                 N  \n",
       "4                 Y  "
      ]
     },
     "execution_count": 2,
     "metadata": {},
     "output_type": "execute_result"
    }
   ],
   "source": [
    "train = pd.read_csv(\"flight_delays_train.csv\")\n",
    "test = pd.read_csv(\"flight_delays_test.csv\")\n",
    "subm = pd.read_csv(\"sample_sub1.csv\")\n",
    "\n",
    "train.head()"
   ]
  },
  {
   "cell_type": "markdown",
   "metadata": {},
   "source": [
    "Pre-processing the data in the columns of both the testing data and the training data by following the below steps:\n",
    "<ul>\n",
    "    <li>Remove the string prefix <b>\"c-\"</b> from columns: <b>\"Month\"</b>, <b>\"DayOfWeek\"</b> and <b>\"DayofMonth\"</b> and convert them to integers.\n",
    "    <li>Changing the departure time to departure hour as it seems like a more relevant measure (for business of the airport) than the exact minute for departure.\n",
    "    <li>Replacing the <b>\"dep_dealyed_15min\"</b> column values by booleans: <b>'1', '0'</b> instead of <b>\"Y\", \"N\"</b>.\n",
    "    <li>Factorising the string valued columns such as <b>\"UniqueCarrier\"</b>, <b>\"Origin\"</b> and <b>\"Dest\"</b> in order to get unique numbers.\n",
    "</ul>"
   ]
  },
  {
   "cell_type": "code",
   "execution_count": 3,
   "metadata": {
    "execution": {
     "iopub.execute_input": "2020-08-19T02:22:57.945432Z",
     "iopub.status.busy": "2020-08-19T02:22:57.940385Z",
     "iopub.status.idle": "2020-08-19T02:22:58.582221Z",
     "shell.execute_reply": "2020-08-19T02:22:58.581382Z"
    },
    "papermill": {
     "duration": 0.677207,
     "end_time": "2020-08-19T02:22:58.582363",
     "exception": false,
     "start_time": "2020-08-19T02:22:57.905156",
     "status": "completed"
    },
    "tags": []
   },
   "outputs": [],
   "source": [
    "# Pre-processing for training data\n",
    "train[\"Month\"] = [int(month[2:]) for month in train[\"Month\"]]\n",
    "train[\"DayofMonth\"] = [int(day[2:]) for day in train[\"DayofMonth\"]]\n",
    "train[\"DayOfWeek\"] = [int(d[2:]) for d in train[\"DayOfWeek\"]]\n",
    "train[\"DepHour\"] = [int(t/100) for t in train[\"DepTime\"]]\n",
    "\n",
    "train = train.drop(\"DepTime\", axis=1)\n",
    "for col in ['Origin', 'Dest', 'UniqueCarrier']:\n",
    "    train[col] = pd.factorize(train[col])[0]\n",
    "\n",
    "train[\"dep_delayed_15min\"] = [1  if n == \"Y\" else 0 for n in train[\"dep_delayed_15min\"]]\n",
    "\n",
    "\n",
    "# Pre-processing for testing data\n",
    "test[\"Month\"] = [int(month[2:]) for month in test[\"Month\"]]\n",
    "test[\"DayofMonth\"] = [int(day[2:]) for day in test[\"DayofMonth\"]]\n",
    "test[\"DayOfWeek\"] = [int(d[2:]) for d in test[\"DayOfWeek\"]]\n",
    "test[\"DepHour\"] = [int(t/100) for t in test[\"DepTime\"]]\n",
    "\n",
    "test = test.drop(\"DepTime\", axis=1)\n",
    "for col in ['Origin', 'Dest', 'UniqueCarrier']:\n",
    "    test[col] = pd.factorize(test[col])[0]"
   ]
  },
  {
   "cell_type": "markdown",
   "metadata": {},
   "source": [
    "Logically the <b>Dist</b>ance that is to be covered by the flight, the <b>Dest</b>ination airport as well as the <b>DayofMonth</b> shouldn't affect the probability of delay as they are variables that either play a very small or no part in the function. <br>\n",
    "We can now plot the delay output based on each of these parameters and see which ones are to be dropped."
   ]
  },
  {
   "cell_type": "code",
   "execution_count": 4,
   "metadata": {
    "scrolled": false
   },
   "outputs": [
    {
     "data": {
      "image/png": "[encoded data removed]",
      "text/plain": [
       "<Figure size 432x288 with 1 Axes>"
      ]
     },
     "metadata": {
      "needs_background": "light"
     },
     "output_type": "display_data"
    },
    {
     "data": {
      "image/png": "[encoded data removed]",
      "text/plain": [
       "<Figure size 432x288 with 1 Axes>"
      ]
     },
     "metadata": {
      "needs_background": "light"
     },
     "output_type": "display_data"
    },
    {
     "data": {
      "image/png": "[encoded data removed]",
      "text/plain": [
       "<Figure size 432x288 with 1 Axes>"
      ]
     },
     "metadata": {
      "needs_background": "light"
     },
     "output_type": "display_data"
    },
    {
     "data": {
      "image/png": "[encoded data removed]",
      "text/plain": [
       "<Figure size 432x288 with 1 Axes>"
      ]
     },
     "metadata": {
      "needs_background": "light"
     },
     "output_type": "display_data"
    },
    {
     "data": {
      "image/png": "[encoded data removed]",
      "text/plain": [
       "<Figure size 432x288 with 1 Axes>"
      ]
     },
     "metadata": {
      "needs_background": "light"
     },
     "output_type": "display_data"
    },
    {
     "data": {
      "image/png": "[encoded data removed]",
      "text/plain": [
       "<Figure size 432x288 with 1 Axes>"
      ]
     },
     "metadata": {
      "needs_background": "light"
     },
     "output_type": "display_data"
    },
    {
     "data": {
      "image/png": "[encoded data removed]",
      "text/plain": [
       "<Figure size 432x288 with 1 Axes>"
      ]
     },
     "metadata": {
      "needs_background": "light"
     },
     "output_type": "display_data"
    },
    {
     "data": {
      "image/png": "[encoded data removed]",
      "text/plain": [
       "<Figure size 432x288 with 1 Axes>"
      ]
     },
     "metadata": {
      "needs_background": "light"
     },
     "output_type": "display_data"
    }
   ],
   "source": [
    "plt.bar(train.groupby(\"Month\")[\"dep_delayed_15min\"].sum().index, train.groupby(\"Month\")[\"dep_delayed_15min\"].sum())\n",
    "plt.title(\"Month plot\")\n",
    "plt.show()\n",
    "\n",
    "plt.bar(train.groupby(\"DayofMonth\")[\"dep_delayed_15min\"].sum().index, train.groupby(\"DayofMonth\")[\"dep_delayed_15min\"].sum())\n",
    "plt.title(\"DayofMonth plot\")\n",
    "plt.show()\n",
    "\n",
    "plt.bar(train.groupby(\"DayOfWeek\")[\"dep_delayed_15min\"].sum().index, train.groupby(\"DayOfWeek\")[\"dep_delayed_15min\"].sum())\n",
    "plt.title(\"DayOfWeek plot\")\n",
    "plt.show()\n",
    "\n",
    "plt.bar(train.groupby(\"DepHour\")[\"dep_delayed_15min\"].sum().index, train.groupby(\"DepHour\")[\"dep_delayed_15min\"].sum())\n",
    "plt.title(\"DepHour plot\")\n",
    "plt.show()\n",
    "\n",
    "plt.bar(train.groupby(\"UniqueCarrier\")[\"dep_delayed_15min\"].sum().index, train.groupby(\"UniqueCarrier\")[\"dep_delayed_15min\"].sum())\n",
    "plt.title(\"UniqueCarrier plot\")\n",
    "plt.show()\n",
    "\n",
    "plt.bar(train.groupby(\"Dest\")[\"dep_delayed_15min\"].sum().index, train.groupby(\"Dest\")[\"dep_delayed_15min\"].sum())\n",
    "plt.title(\"Dest plot\")\n",
    "plt.show()\n",
    "\n",
    "plt.bar(train.groupby(\"Origin\")[\"dep_delayed_15min\"].sum().index, train.groupby(\"Origin\")[\"dep_delayed_15min\"].sum())\n",
    "plt.title(\"Origin plot\")\n",
    "plt.show()\n",
    "\n",
    "plt.bar(train.groupby(\"Distance\")[\"dep_delayed_15min\"].sum().index, train.groupby(\"Distance\")[\"dep_delayed_15min\"].sum())\n",
    "plt.title(\"Distance plot\")\n",
    "plt.show()"
   ]
  },
  {
   "cell_type": "markdown",
   "metadata": {},
   "source": [
    "But as we can see from the graphs, <b>Destination</b> is very much relevant to the data calculation whereas <b>DayOfMonth, Month</b> and <b>DayOfWeek</b> plots remain more or less the same. Perhaps a <b>Seasons</b> parameter would be a little efficient as the Summer flights(months 6-8) have a slightly higher punctuality. Hence we drop the following parameters from the dataframe."
   ]
  },
  {
   "cell_type": "code",
   "execution_count": 5,
   "metadata": {},
   "outputs": [],
   "source": [
    "train = train.drop(\"DayofMonth\", axis=1)\n",
    "train = train.drop(\"DayOfWeek\", axis=1)\n",
    "train = train.drop(\"Month\", axis=1)\n",
    "\n",
    "test = test.drop(\"DayofMonth\", axis=1)\n",
    "test = test.drop(\"DayOfWeek\", axis=1)\n",
    "test = test.drop(\"Month\", axis=1)"
   ]
  },
  {
   "cell_type": "code",
   "execution_count": 6,
   "metadata": {
    "execution": {
     "iopub.execute_input": "2020-08-19T02:22:58.612120Z",
     "iopub.status.busy": "2020-08-19T02:22:58.611360Z",
     "iopub.status.idle": "2020-08-19T02:22:58.623443Z",
     "shell.execute_reply": "2020-08-19T02:22:58.622640Z"
    },
    "papermill": {
     "duration": 0.029509,
     "end_time": "2020-08-19T02:22:58.623575",
     "exception": false,
     "start_time": "2020-08-19T02:22:58.594066",
     "status": "completed"
    },
    "scrolled": true,
    "tags": []
   },
   "outputs": [
    {
     "name": "stdout",
     "output_type": "stream",
     "text": [
      "(100000, 5)\n"
     ]
    }
   ],
   "source": [
    "# Input values/columns (X)\n",
    "features = train.drop([\"dep_delayed_15min\"], axis=1)\n",
    "\n",
    "# Output values/columns (Y)\n",
    "labels = train[\"dep_delayed_15min\"]\n",
    "\n",
    "features, labels = features.to_numpy(), labels.to_numpy()\n",
    "print(features.shape)"
   ]
  },
  {
   "cell_type": "markdown",
   "metadata": {
    "execution": {
     "iopub.execute_input": "2020-08-19T02:22:58.652236Z",
     "iopub.status.busy": "2020-08-19T02:22:58.651196Z",
     "iopub.status.idle": "2020-08-19T02:22:58.655026Z",
     "shell.execute_reply": "2020-08-19T02:22:58.655828Z"
    },
    "papermill": {
     "duration": 0.020991,
     "end_time": "2020-08-19T02:22:58.656080",
     "exception": false,
     "start_time": "2020-08-19T02:22:58.635089",
     "status": "completed"
    },
    "tags": []
   },
   "source": [
    "Here we define a model using the `Sequential` class by stacking the layers of the Neural Network. The `Dense` function in the layer takes in the input shape of the raw data and outputs 32 neurons to be processed by the activation function that layer. (which in this case is the `ReLU` function for the first two layers and finally outputting 1 neuron through a `Sigmoid` activation function) <br>\n",
    "\n",
    "Following this we configure the model with losses and metrics using `model.compile()` where we define our loss function (in this case, using <b>'binary_crossentropy'</b> which is generally used for binary classification models like this one) and the optimizer that we use here to efficiently optimize the gradient decent of our loss function is the Adam optimizer which essentially just takes into consideration the <b>‘exponentially weighted average’</b> of the gradients which helps it to converge faster. <br>\n",
    "\n",
    "The model first shuffles the data `shuffle=True` and then splits it to train and validation (in this case since `validation_split=0.2`, <b>80%</b> of the data will be used in training and <b>20%</b> will be used for cross-validation). Now we fit our training data on this customized model, the input being the `X=features` dataframe and the output being `Y=labels` column. Now as defined previously, our model takes in input at the first layer of the neural network and generates a layer of 32 neurons, so a `batch_size=128` is reasonable for one run of the network. This runs till the complete the input is parsed which is then repeated for `epochs=15` iterations.\n",
    "\n",
    "<u><b>Note:</b></u> `verbose=0` used anywhere is just to prevent irrelevant print statements that print by default during execution of `models.predict()` and `models.fit()`"
   ]
  },
  {
   "cell_type": "code",
   "execution_count": 7,
   "metadata": {
    "execution": {
     "iopub.execute_input": "2020-08-19T02:22:58.689577Z",
     "iopub.status.busy": "2020-08-19T02:22:58.688821Z",
     "iopub.status.idle": "2020-08-19T02:22:58.820111Z",
     "shell.execute_reply": "2020-08-19T02:22:58.819421Z"
    },
    "papermill": {
     "duration": 0.151005,
     "end_time": "2020-08-19T02:22:58.820246",
     "exception": false,
     "start_time": "2020-08-19T02:22:58.669241",
     "status": "completed"
    },
    "tags": []
   },
   "outputs": [],
   "source": [
    "model = keras.Sequential([\n",
    "    layers.Dense(32, input_shape=(features.shape[1],), activation='relu'),\n",
    "    layers.Dense(32, activation='relu'),\n",
    "    layers.Dense(1, activation='sigmoid')\n",
    "])\n",
    "\n",
    "model.compile(optimizer=keras.optimizers.Adam(learning_rate=.01), loss='binary_crossentropy')\n",
    "\n",
    "history = model.fit(features, labels, epochs=15, batch_size=128, validation_split=0.2, shuffle=True, verbose=0)"
   ]
  },
  {
   "cell_type": "markdown",
   "metadata": {
    "execution": {
     "iopub.execute_input": "2020-08-19T02:23:13.761758Z",
     "iopub.status.busy": "2020-08-19T02:23:13.760612Z",
     "iopub.status.idle": "2020-08-19T02:23:15.640690Z",
     "shell.execute_reply": "2020-08-19T02:23:15.640061Z"
    },
    "papermill": {
     "duration": 1.998241,
     "end_time": "2020-08-19T02:23:15.640831",
     "exception": false,
     "start_time": "2020-08-19T02:23:13.642590",
     "status": "completed"
    },
    "tags": []
   },
   "source": [
    "Running `model.predict()` on the testing data and storing it in the <b>submission.csv</b> file "
   ]
  },
  {
   "cell_type": "code",
   "execution_count": 8,
   "metadata": {
    "execution": {
     "iopub.execute_input": "2020-08-19T02:23:15.867486Z",
     "iopub.status.busy": "2020-08-19T02:23:15.866679Z",
     "iopub.status.idle": "2020-08-19T02:23:16.419630Z",
     "shell.execute_reply": "2020-08-19T02:23:16.420202Z"
    },
    "papermill": {
     "duration": 0.669177,
     "end_time": "2020-08-19T02:23:16.420380",
     "exception": false,
     "start_time": "2020-08-19T02:23:15.751203",
     "status": "completed"
    },
    "tags": []
   },
   "outputs": [
    {
     "data": {
      "text/html": [
       "<div>\n",
       "<style scoped>\n",
       "    .dataframe tbody tr th:only-of-type {\n",
       "        vertical-align: middle;\n",
       "    }\n",
       "\n",
       "    .dataframe tbody tr th {\n",
       "        vertical-align: top;\n",
       "    }\n",
       "\n",
       "    .dataframe thead th {\n",
       "        text-align: right;\n",
       "    }\n",
       "</style>\n",
       "<table border=\"1\" class=\"dataframe\">\n",
       "  <thead>\n",
       "    <tr style=\"text-align: right;\">\n",
       "      <th></th>\n",
       "      <th>id</th>\n",
       "      <th>dep_delayed_15min</th>\n",
       "    </tr>\n",
       "  </thead>\n",
       "  <tbody>\n",
       "    <tr>\n",
       "      <th>0</th>\n",
       "      <td>0</td>\n",
       "      <td>0.076497</td>\n",
       "    </tr>\n",
       "    <tr>\n",
       "      <th>1</th>\n",
       "      <td>1</td>\n",
       "      <td>0.119364</td>\n",
       "    </tr>\n",
       "    <tr>\n",
       "      <th>2</th>\n",
       "      <td>2</td>\n",
       "      <td>0.074743</td>\n",
       "    </tr>\n",
       "    <tr>\n",
       "      <th>3</th>\n",
       "      <td>3</td>\n",
       "      <td>0.283153</td>\n",
       "    </tr>\n",
       "    <tr>\n",
       "      <th>4</th>\n",
       "      <td>4</td>\n",
       "      <td>0.254256</td>\n",
       "    </tr>\n",
       "    <tr>\n",
       "      <th>...</th>\n",
       "      <td>...</td>\n",
       "      <td>...</td>\n",
       "    </tr>\n",
       "    <tr>\n",
       "      <th>99995</th>\n",
       "      <td>99995</td>\n",
       "      <td>0.098668</td>\n",
       "    </tr>\n",
       "    <tr>\n",
       "      <th>99996</th>\n",
       "      <td>99996</td>\n",
       "      <td>0.217142</td>\n",
       "    </tr>\n",
       "    <tr>\n",
       "      <th>99997</th>\n",
       "      <td>99997</td>\n",
       "      <td>0.212756</td>\n",
       "    </tr>\n",
       "    <tr>\n",
       "      <th>99998</th>\n",
       "      <td>99998</td>\n",
       "      <td>0.105850</td>\n",
       "    </tr>\n",
       "    <tr>\n",
       "      <th>99999</th>\n",
       "      <td>99999</td>\n",
       "      <td>0.090833</td>\n",
       "    </tr>\n",
       "  </tbody>\n",
       "</table>\n",
       "<p>100000 rows × 2 columns</p>\n",
       "</div>"
      ],
      "text/plain": [
       "          id  dep_delayed_15min\n",
       "0          0           0.076497\n",
       "1          1           0.119364\n",
       "2          2           0.074743\n",
       "3          3           0.283153\n",
       "4          4           0.254256\n",
       "...      ...                ...\n",
       "99995  99995           0.098668\n",
       "99996  99996           0.217142\n",
       "99997  99997           0.212756\n",
       "99998  99998           0.105850\n",
       "99999  99999           0.090833\n",
       "\n",
       "[100000 rows x 2 columns]"
      ]
     },
     "execution_count": 8,
     "metadata": {},
     "output_type": "execute_result"
    }
   ],
   "source": [
    "predictions = model.predict(test, verbose=0)\n",
    "preds = [pred[0] for pred in predictions]\n",
    "\n",
    "submission = pd.DataFrame({'id':subm['id'],'dep_delayed_15min':preds})\n",
    "submission.to_csv(\"submission.csv\" ,index=False)\n",
    "submission"
   ]
  }
 ],
 "metadata": {
  "kernelspec": {
   "display_name": "Python 3",
   "language": "python",
   "name": "python3"
  },
  "language_info": {
   "codemirror_mode": {
    "name": "ipython",
    "version": 3
   },
   "file_extension": ".py",
   "mimetype": "text/x-python",
   "name": "python",
   "nbconvert_exporter": "python",
   "pygments_lexer": "ipython3",
   "version": "3.8.8"
  },
  "papermill": {
   "duration": 30.355916,
   "end_time": "2020-08-19T02:23:16.859468",
   "environment_variables": {},
   "exception": null,
   "input_path": "__notebook__.ipynb",
   "output_path": "__notebook__.ipynb",
   "parameters": {},
   "start_time": "2020-08-19T02:22:46.503552",
   "version": "2.1.0"
  }
 },
 "nbformat": 4,
 "nbformat_minor": 4
}
